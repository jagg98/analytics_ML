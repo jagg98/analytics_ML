{
 "cells": [
  {
   "cell_type": "markdown",
   "metadata": {},
   "source": [
    "# Redes neuronales artificiales - Perceptrón\n",
    "\n",
    "El objetivo de la AI es el desarrollo de paradigmas o algoritmos que requieren máquinas para desempeñar tareas cognituvas, en las cuales actualmente los humanos son mejores. Una sistema de AI debe ser capaz de hacer tres cosas: 1) almacenar conocimiento, 2) aplicar el conocimiento almacenado para respover problemas, 3) adquirir nuevo conocimiento a través de la experiencia. Un sistema de AI tiene tres componentes principales: representación, razonamiento y aprendizaje. Las redes neuronales cumplen con los tres principios pero trabajan con paralelismo, no en forma serial como suelen trabajar los algoritmos de AI."
   ]
  },
  {
   "cell_type": "markdown",
   "metadata": {},
   "source": [
    "## Implementación\n",
    "\n",
    "La libraría que se utilizará para el desarrollo de los códigos se llama NeuroLab http://pythonhosted.org/neurolab/. Para la instalación se debe ejecutar el comando en el promp de Anaconda.\n",
    "\n",
    "$ pip install neurolab\n",
    "\n",
    "ó\n",
    "\n",
    "$ pip3 install neurolab\n",
    "\n",
    "## Construcción de un clasificador basado en un perceptron\n",
    "\n",
    "Un Perceptron es el componente básico de una ANN. Es un modelo de una ANN de una sola capa que toma las entradas, realiza cálculos sobre ellas y luego produce una salida. Utiliza una función lineal simple para tomar la decisión. Digamos que estamos tratando con un punto de datos de entrada  N−dimensional. Un Perceptron calcula la suma ponderada de esos  NN números y luego agrega una constante para producir la salida. La constante se llama sesgo (bias) de la neurona. Es notable observar que estos perceptrones simples se utilizan para diseñar redes neuronales profundas muy complejas. Veamos cómo construir un clasificador basado en Perceptron usando NeuroLab."
   ]
  },
  {
   "cell_type": "code",
   "execution_count": 1,
   "metadata": {},
   "outputs": [
    {
     "ename": "ModuleNotFoundError",
     "evalue": "No module named 'neurolab'",
     "output_type": "error",
     "traceback": [
      "\u001b[1;31m---------------------------------------------------------------------------\u001b[0m",
      "\u001b[1;31mModuleNotFoundError\u001b[0m                       Traceback (most recent call last)",
      "\u001b[1;32m<ipython-input-1-7662020682cc>\u001b[0m in \u001b[0;36m<module>\u001b[1;34m()\u001b[0m\n\u001b[0;32m      2\u001b[0m \u001b[1;32mimport\u001b[0m \u001b[0mnumpy\u001b[0m \u001b[1;32mas\u001b[0m \u001b[0mnp\u001b[0m\u001b[1;33m\u001b[0m\u001b[0m\n\u001b[0;32m      3\u001b[0m \u001b[1;32mimport\u001b[0m \u001b[0mmatplotlib\u001b[0m\u001b[1;33m.\u001b[0m\u001b[0mpyplot\u001b[0m \u001b[1;32mas\u001b[0m \u001b[0mplt\u001b[0m\u001b[1;33m\u001b[0m\u001b[0m\n\u001b[1;32m----> 4\u001b[1;33m \u001b[1;32mimport\u001b[0m \u001b[0mneurolab\u001b[0m \u001b[1;32mas\u001b[0m \u001b[0mnl\u001b[0m\u001b[1;33m\u001b[0m\u001b[0m\n\u001b[0m",
      "\u001b[1;31mModuleNotFoundError\u001b[0m: No module named 'neurolab'"
     ]
    }
   ],
   "source": [
    "#importamos las librerías necesarias\n",
    "import numpy as np\n",
    "import matplotlib.pyplot as plt\n",
    "import neurolab as nl"
   ]
  },
  {
   "cell_type": "code",
   "execution_count": null,
   "metadata": {},
   "outputs": [],
   "source": [
    "#cargamos los datos del archivo. Consisten en dos características y una etiqueta separados por espacio\n",
    "datos = np.loadtxt('data_perceptron.txt')\n",
    "\n",
    "#los separamos en datos y etiquetas\n",
    "X = datos[:,:2]\n",
    "etiquetas = datos[:,2]\n",
    "print(etiquetas)\n",
    "#reordenamos las etiquetas para que queden en formato columna\n",
    "y = np.vstack(etiquetas)\n",
    "print(y)"
   ]
  },
  {
   "cell_type": "code",
   "execution_count": null,
   "metadata": {},
   "outputs": [],
   "source": [
    "#graficamos los datos de entrada\n",
    "plt.figure()\n",
    "plt.scatter(X[:,0],X[:,1])\n",
    "plt.xlabel('Dimension 1')\n",
    "plt.ylabel('Dimension 2')\n",
    "plt.title('Datos de entrada')\n",
    "plt.show()\n",
    "#definimos los valores máximos y mínimos que puede tomar cada dimensión\n",
    "dim1_min, dim1_max, dim2_min, dim2_max = 0,1,0,1\n",
    "#Dado que los datos están seprados en dos clases, solo necesitamos un bit\n",
    "#para representar la salida. Por tanto la capa de salida solo tendrá una neurona\n",
    "\n",
    "#Número de neuronas en la capa de salida\n",
    "num_output = y.shape[1]\n",
    "\n",
    "#tenemos un conjunto de datos de dos dimensiones, definimos un perceptron\n",
    "# con dos neuronas a la entrada y le asignamos una a cada dimensión\n",
    "dim1 = [dim1_min, dim1_max]\n",
    "dim2 = [dim2_min, dim2_max]\n",
    "perceptron = nl.net.newp([dim1,dim2], num_output)\n"
   ]
  },
  {
   "cell_type": "code",
   "execution_count": null,
   "metadata": {},
   "outputs": [],
   "source": [
    "#entrenamos el perceptron con el conjunto de entrenamiento \n",
    "# lr es la tasa de aprendizaje, e indica que tan rápico o que tan lento se actualizan los pasos\n",
    "#epochs indica el número de pasadas por todo el conjunto de entrenamiento\n",
    "progreso_error = perceptron.train(X, y, epochs=100, show=20, lr=0.03)\n",
    "perceptron.layers[0].np['w'] #con esta instrucción conocemos los pesos para la capa de entrada"
   ]
  },
  {
   "cell_type": "code",
   "execution_count": null,
   "metadata": {},
   "outputs": [],
   "source": [
    "#graficamos el progreso de entrenamiento usando la métrica del error\n",
    "plt.figure() \n",
    "plt.plot(progreso_error) \n",
    "plt.xlabel('Número de epochs') \n",
    "plt.ylabel('Error de entrenamiento') \n",
    "plt.title('Progreso del error en el entrenamiento') \n",
    "plt.grid()\n",
    "plt.show()"
   ]
  },
  {
   "cell_type": "code",
   "execution_count": null,
   "metadata": {},
   "outputs": [],
   "source": [
    "#vamos a validar con el mismo conjunto de entrenamiento. Recuerda que la validación se hace normalmente con el conjunto de test\n",
    "y_pred = perceptron.sim(X)\n",
    "print('El acierto de clasificación es: ', (y==y_pred).sum()/len(y)*100, '%')"
   ]
  },
  {
   "cell_type": "code",
   "execution_count": null,
   "metadata": {},
   "outputs": [],
   "source": [
    "#si queremos modificar los pesos de las entradas, podemos utilizar la siguiente instrucción:\n",
    "perceptron.layers[0].np['w'] = [[0.8,1]] #para x1 el peso será 0.8, para x2 el peso será 1\n",
    "y_pred = perceptron.sim(X) #con esto validamos nuevamente la red pero con los pesos que nosotros fijamos\n",
    "print('El acierto de clasificación es: ', (y==y_pred).sum()/len(y)*100, '%')"
   ]
  },
  {
   "cell_type": "markdown",
   "metadata": {},
   "source": [
    "** Actividad 1**\n",
    "\n",
    "Determina los pesos de las dos entradas para un perceptrón que realice la operación AND y otro que realice la operación OR. Valida el resultado con el conjunto de datos de entrada. Luego entrena el perceptrón para que el mismo encuentre los pesos. Valida nuevamente los datos. ¿Qué puedes concluir?"
   ]
  },
  {
   "cell_type": "code",
   "execution_count": 2,
   "metadata": {},
   "outputs": [
    {
     "name": "stdout",
     "output_type": "stream",
     "text": [
      "W1 =  -0.5 W2 =  -0.5\n",
      "neta =  0.5\n",
      "0 0\n",
      "yh =  0\n",
      "error =  0\n",
      "W1 =  -0.5 W2 =  -0.5\n",
      "neta =  0.0\n",
      "1 0\n",
      "yh =  0\n",
      "error =  0\n",
      "W1 =  -0.5 W2 =  -0.5\n",
      "neta =  0.0\n",
      "0 1\n",
      "yh =  0\n",
      "error =  0\n",
      "W1 =  -0.5 W2 =  -0.5\n",
      "neta =  -0.5\n",
      "1 1\n",
      "yh =  1\n",
      "error =  0\n",
      "[[0.]\n",
      " [0.]\n",
      " [0.]\n",
      " [1.]] -0.5 -0.5 0.5\n"
     ]
    }
   ],
   "source": [
    "#espacio para realizar la actividad 1\n",
    "\n",
    "\n",
    "y1 = np.array([[0],[0],[0],[1]])\n",
    "X1 = np.array([[0,0],[1,0],[0,1],[1,1]])\n",
    "w1 = -0.5\n",
    "w2 = -0.5\n",
    "teta = 0.5\n",
    "alpha = 1\n",
    "n = 1\n",
    "\n",
    "yh = 0\n",
    "Ycalculado = np.zeros((4,1))\n",
    "todos = False\n",
    "error = 0\n",
    "\n",
    "\n",
    "while todos == False:\n",
    "    for i in range(len(y1)):\n",
    "        print(\"W1 = \",w1,\"W2 = \", w2)\n",
    "        neta = 0\n",
    "        V1 = X1[i,0]\n",
    "        V2 = X1[i,1]\n",
    "        neta = V1*w1+V2*w2+(teta)\n",
    "        \n",
    "        if neta >= 0:\n",
    "            yh = 0\n",
    "        if neta < 0:\n",
    "            yh = 1\n",
    "        error = yh - y1[i,0]\n",
    "        if error != 0:\n",
    "            w1 = w1 + alpha*(y1[i,0]+yh)*X1[i,0]\n",
    "            w2 = w2 + alpha*(y1[i,0]+yh)*X1[i,1]\n",
    "            teta = teta +alpha*(y1[i,0]+yh)\n",
    "            i = 0\n",
    "            Ycalculado = np.zeros((4,1))\n",
    "            neta = 0\n",
    "            n = 1\n",
    "        if error == 0:\n",
    "            Ycalculado[i,0] = yh\n",
    "            n = n + 1\n",
    "        if n == 5:\n",
    "            todos = True\n",
    "        print(\"neta = \",neta)\n",
    "        print(V1,V2)\n",
    "        print(\"yh = \",yh)\n",
    "        print(\"error = \",error)\n",
    "\n",
    "            \n",
    "print(Ycalculado,w1,w2,teta)"
   ]
  },
  {
   "cell_type": "markdown",
   "metadata": {},
   "source": [
    "** Actividad 2**\n",
    "\n",
    "Se debe entrenar y validar un perceptrón para la base de datos $\\verb|datos_perceptron_2.txt|$. El problema es que esa base de datos tiene como etiquetas 0,1,2, por lo tanto vas a necesitar 2 neuronas en la capa de salida. Para hacer esta actividad ten en cuenta los siguientes requerimientos:\n",
    "\n",
    "1. Dividir la base de datos en entrenamiento y validación.\n",
    "2. Preprocesar los datos.\n",
    "3. Convertir las etiquetas en binario (00, 10, 01)\n",
    "4. Definir un perceptron con dos nodos de entrada y una capa de salida con dos neuronas\n",
    "5. Las dimensiones mínimos y máximas de la entrada las debes encontrar (no son necesariamente 0 y 1 como en el ejemplo).\n",
    "6. Entrenar la perceptrón.\n",
    "7. Determinar los pesos que el algoritmo encontró.\n",
    "8. Validar el perceptrón con los datos de test.\n",
    "9. Encontrar el acierto de clasificación comparando y_test y y_pred"
   ]
  },
  {
   "cell_type": "code",
   "execution_count": 16,
   "metadata": {},
   "outputs": [
    {
     "name": "stdout",
     "output_type": "stream",
     "text": [
      "[0.15079742 0.15079742 0.         0.        ]\n"
     ]
    }
   ],
   "source": [
    "#espacio para realizar la actividad 2\n",
    "\n",
    "from scipy.interpolate import Rbf\n",
    "import numpy as np\n",
    "x = [0,1,0,1]\n",
    "y = [0,0,1,1]\n",
    "z = [0,1,1,0]\n",
    "d = [0,1,1,0]\n",
    "rbfi = Rbf(x, y, z, d)\n",
    "# xi = yi = zi = np.linspace(0, 1, 20)\n",
    "\n",
    "xi = [1,1,1,1]\n",
    "yi = [0,0,1,1]\n",
    "zi = [0,0,0,0]\n",
    "\n",
    "di = rbfi(xi, yi, zi)\n",
    "\n",
    "print(di)"
   ]
  },
  {
   "cell_type": "code",
   "execution_count": 18,
   "metadata": {},
   "outputs": [
    {
     "ename": "NameError",
     "evalue": "name 'check_pairwise_arrays' is not defined",
     "output_type": "error",
     "traceback": [
      "\u001b[1;31m---------------------------------------------------------------------------\u001b[0m",
      "\u001b[1;31mNameError\u001b[0m                                 Traceback (most recent call last)",
      "\u001b[1;32m<ipython-input-18-d6d3c808ef0e>\u001b[0m in \u001b[0;36m<module>\u001b[1;34m()\u001b[0m\n\u001b[0;32m     23\u001b[0m     \u001b[0mnp\u001b[0m\u001b[1;33m.\u001b[0m\u001b[0mexp\u001b[0m\u001b[1;33m(\u001b[0m\u001b[0mK\u001b[0m\u001b[1;33m,\u001b[0m \u001b[0mK\u001b[0m\u001b[1;33m)\u001b[0m  \u001b[1;31m# exponentiate K in-place\u001b[0m\u001b[1;33m\u001b[0m\u001b[0m\n\u001b[0;32m     24\u001b[0m     \u001b[1;32mreturn\u001b[0m \u001b[0mK\u001b[0m\u001b[1;33m\u001b[0m\u001b[0m\n\u001b[1;32m---> 25\u001b[1;33m \u001b[0mprint\u001b[0m\u001b[1;33m(\u001b[0m\u001b[0mrbf_kernel\u001b[0m\u001b[1;33m(\u001b[0m\u001b[0mx\u001b[0m\u001b[1;33m)\u001b[0m\u001b[1;33m)\u001b[0m\u001b[1;33m\u001b[0m\u001b[0m\n\u001b[0m",
      "\u001b[1;32m<ipython-input-18-d6d3c808ef0e>\u001b[0m in \u001b[0;36mrbf_kernel\u001b[1;34m(X, Y, gamma)\u001b[0m\n\u001b[0;32m     15\u001b[0m     \u001b[0mkernel_matrix\u001b[0m \u001b[1;33m:\u001b[0m \u001b[0marray\u001b[0m \u001b[0mof\u001b[0m \u001b[0mshape\u001b[0m \u001b[1;33m(\u001b[0m\u001b[0mn_samples_X\u001b[0m\u001b[1;33m,\u001b[0m \u001b[0mn_samples_Y\u001b[0m\u001b[1;33m)\u001b[0m\u001b[1;33m\u001b[0m\u001b[0m\n\u001b[0;32m     16\u001b[0m     \"\"\"\n\u001b[1;32m---> 17\u001b[1;33m     \u001b[0mX\u001b[0m\u001b[1;33m,\u001b[0m \u001b[0mY\u001b[0m \u001b[1;33m=\u001b[0m \u001b[0mcheck_pairwise_arrays\u001b[0m\u001b[1;33m(\u001b[0m\u001b[0mX\u001b[0m\u001b[1;33m,\u001b[0m \u001b[0mY\u001b[0m\u001b[1;33m)\u001b[0m\u001b[1;33m\u001b[0m\u001b[0m\n\u001b[0m\u001b[0;32m     18\u001b[0m     \u001b[1;32mif\u001b[0m \u001b[0mgamma\u001b[0m \u001b[1;32mis\u001b[0m \u001b[1;32mNone\u001b[0m\u001b[1;33m:\u001b[0m\u001b[1;33m\u001b[0m\u001b[0m\n\u001b[0;32m     19\u001b[0m         \u001b[0mgamma\u001b[0m \u001b[1;33m=\u001b[0m \u001b[1;36m1.0\u001b[0m \u001b[1;33m/\u001b[0m \u001b[0mX\u001b[0m\u001b[1;33m.\u001b[0m\u001b[0mshape\u001b[0m\u001b[1;33m[\u001b[0m\u001b[1;36m1\u001b[0m\u001b[1;33m]\u001b[0m\u001b[1;33m\u001b[0m\u001b[0m\n",
      "\u001b[1;31mNameError\u001b[0m: name 'check_pairwise_arrays' is not defined"
     ]
    }
   ],
   "source": [
    "def rbf_kernel(X, Y=None, gamma=None):\n",
    "    \"\"\"\n",
    "    Compute the rbf (gaussian) kernel between X and Y::\n",
    "        K(x, y) = exp(-gamma ||x-y||^2)\n",
    "    for each pair of rows x in X and y in Y.\n",
    "    Read more in the :ref:`User Guide <rbf_kernel>`.\n",
    "    Parameters\n",
    "    ----------\n",
    "    X : array of shape (n_samples_X, n_features)\n",
    "    Y : array of shape (n_samples_Y, n_features)\n",
    "    gamma : float, default None\n",
    "        If None, defaults to 1.0 / n_features\n",
    "    Returns\n",
    "    -------\n",
    "    kernel_matrix : array of shape (n_samples_X, n_samples_Y)\n",
    "    \"\"\"\n",
    "    X, Y = check_pairwise_arrays(X, Y)\n",
    "    if gamma is None:\n",
    "        gamma = 1.0 / X.shape[1]\n",
    "\n",
    "    K = euclidean_distances(X, Y, squared=True)\n",
    "    K *= -gamma\n",
    "    np.exp(K, K)  # exponentiate K in-place\n",
    "    return K\n",
    "print(rbf_kernel(x))"
   ]
  }
 ],
 "metadata": {
  "kernelspec": {
   "display_name": "Python 3",
   "language": "python",
   "name": "python3"
  },
  "language_info": {
   "codemirror_mode": {
    "name": "ipython",
    "version": 3
   },
   "file_extension": ".py",
   "mimetype": "text/x-python",
   "name": "python",
   "nbconvert_exporter": "python",
   "pygments_lexer": "ipython3",
   "version": "3.7.0"
  }
 },
 "nbformat": 4,
 "nbformat_minor": 2
}
