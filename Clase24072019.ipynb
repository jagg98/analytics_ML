{
 "cells": [
  {
   "cell_type": "markdown",
   "metadata": {},
   "source": [
    "## Aprendizaje de máquina\n",
    "\n",
    "Partimos de una matriz de observaciones $\\mathbf{X}$ de la forma:\n",
    "\n",
    "$$\\mathbf{X}=\\begin{bmatrix}\n",
    "x_{11} & x_{12} & \\ldots & x_{1p}\\\\\n",
    "x_{21} & x_{22} & \\ldots & x_{2p}\\\\\n",
    "\\vdots &\\vdots &\\ldots &\\vdots\\\\\n",
    "x_{n1} & x_{n2} & \\ldots &x_{np}\n",
    "\\end{bmatrix}$$\n",
    "\n",
    "donde $p$ el número de características (número de columnas) y $n$ es el número de observaciones o ejemplos.\n",
    "\n",
    "**Ejemplo**\n",
    "\n",
    "bCon el fin de aplicar las diferentes estrategias de preprocesamiento, vamos a generar una matriz de observaciones para el entrenamiento y otra para la validación (o test).\n",
    "\n",
    "$$\\mathbf{X}_{train} = \\begin{bmatrix}\n",
    "5.1 & -2.9 & 3.3\\\\\n",
    "-1.2 & 7.8 & -6.1\\\\\n",
    "3.9 & 0.4 & 2.1\\\\\n",
    "7.3 & -9.9 & -4.5\n",
    "\\end{bmatrix}$$\n",
    "\n",
    "$$\\mathbf{X}_{test} = \\begin{bmatrix}\n",
    "3.9 & 7.5 & 2.2\n",
    "\\end{bmatrix},$$\n",
    "\n",
    "donde $\\\n",
    "mathbf{x}_{train} \\in R^{n \\times p}$ y $\\mathbf{X}_{test} \\in\n",
    "R^{m\\times p}$\n"
   ]
  },
  {
   "cell_type": "markdown",
   "metadata": {},
   "source": [
    " ## Remoción de la media\n",
    " \n",
    " La idea e la remoción de la media es eliminar la tendencia de los datos. La operación que se realiza es la siguiente:\n",
    " \n",
    " $$\\mathbf{X}_{prepro} = \\frac{\\mathbf{X}-\\hat{\\mathbf{X}}}\n",
    " {\\sigma_{\\mathbf{X}}}$$\n",
    " \n",
    " donde $\\hat{\\mathbf{X}}$ es la media de $\\mathbf{X}$ y $\\sigma_{\\mathbf{X}}$ la\n",
    " desviación estándar.\n",
    " \n",
    " "
   ]
  },
  {
   "cell_type": "code",
   "execution_count": 4,
   "metadata": {},
   "outputs": [
    {
     "name": "stdout",
     "output_type": "stream",
     "text": [
      "La matriz de entrenamiento es: \n",
      " [[ 5.1 -2.9  3.3]\n",
      " [-1.2  7.8 -6.1]\n",
      " [ 3.9  0.4  2.1]\n",
      " [ 7.3 -9.9 -4.5]]\n",
      "La matriz de validación o test es: \n",
      " [3.9 7.5 2.2]\n"
     ]
    }
   ],
   "source": [
    "import numpy as np # importamos la librería numérica y le asignamos el alias np\n",
    "\n",
    "#generamos un arreglo númerico para X_train\n",
    "X_train = np.array([[5.1, -2.9, 3.3], [-1.2, 7.8, -6.1], [3.9, 0.4, 2.1], [7.3, -9.9, -4.5]])\n",
    "#generamos un arreglo numérico para X_test\n",
    "X_test = np.array([3.9, 7.5, 2.2])\n",
    "#imprimimos ambos arreglos\n",
    "print('La matriz de entrenamiento es: \\n', X_train)\n",
    "print('La matriz de validación o test es: \\n', X_test)\n",
    "\n"
   ]
  },
  {
   "cell_type": "code",
   "execution_count": 9,
   "metadata": {},
   "outputs": [],
   "source": [
    "#realizamos la función para la remoción\n",
    "\n",
    "def remocion(X_train, X_test):\n",
    "    media = X_train.mean(axis = 0) #calcula un vector de medias por columna\n",
    "    #o sea por caracteristicas. Debe ser de tamaño p\n",
    "    X_train = X_train - media #hace la operación para cada fila\n",
    "    desviacion = X_train.std(axis = 0) #calcula la desviación estándar\n",
    "    X_train = X_train/desviacion #hacemos la división sobre la desviación\n",
    "    #realizamos la misma operación sobre el X_test con los datos del x_train\n",
    "    return X_train, X_test #retornamos las dos matrices preprocesadas"
   ]
  },
  {
   "cell_type": "code",
   "execution_count": 10,
   "metadata": {},
   "outputs": [
    {
     "name": "stdout",
     "output_type": "stream",
     "text": [
      "[[ 0.42462551 -0.2748757   1.13244172]\n",
      " [-1.59434861  1.40579288 -1.18167831]\n",
      " [ 0.04005901  0.24346134  0.83702214]\n",
      " [ 1.12966409 -1.37437851 -0.78778554]]\n",
      "[3.9 7.5 2.2]\n"
     ]
    }
   ],
   "source": [
    "X_train_prepro, X_test_prepro = remocion(X_train, X_test) #aplicamos la función \n",
    "print(X_train_prepro) #imprimimos los resultados. para validar que el resultado \n",
    "#sea correcto, la desviación estándar debe de ser 1 y la media 0 (solo en el train).\n",
    "print(X_test_prepro) #como para el test utilizamos los datos del train, no tiene\n",
    "#sentido hacer la validación de media y desviación estándar."
   ]
  }
 ],
 "metadata": {
  "kernelspec": {
   "display_name": "Python 3",
   "language": "python",
   "name": "python3"
  },
  "language_info": {
   "codemirror_mode": {
    "name": "ipython",
    "version": 3
   },
   "file_extension": ".py",
   "mimetype": "text/x-python",
   "name": "python",
   "nbconvert_exporter": "python",
   "pygments_lexer": "ipython3",
   "version": "3.7.3"
  }
 },
 "nbformat": 4,
 "nbformat_minor": 2
}
