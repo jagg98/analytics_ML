{
 "cells": [
  {
   "cell_type": "markdown",
   "metadata": {},
   "source": [
    "# Comparación perceptrón\n",
    "\n",
    "¿Recuerdas el ejercicio del parcial? Vamos a repetirlo pero utilizando *k*-NN y perceptrón para comparar su desempeño. Ten en cuenta las recomendaciones realizadas en el parcial (principalmente la de el pre-procesamiento de las muestras del archivo $\\verb|Test-txt|$)"
   ]
  },
  {
   "cell_type": "markdown",
   "metadata": {},
   "source": [
    "El sistema experto que generes debe cumploir con las siguientes condiciones:\n",
    "\n",
    "1. Se debe hacer una partición de entrenamiento y validación para probar el sistema desarrollado.\n",
    "2. Tener una etapa de preprocesamiento de las observaciones.\n",
    "3. ***Comparar el desempeño del perceptrón con el desempeño de *k*-NN (utilizando la librería de python)***\n",
    "4. Después de tener el sistema entrenado y validado se debe dar la información  de calidad para las 19 muestras de café de las que no se tiene conocimiento.\n",
    "5. Cualquier tipo de información adicional que crea requerir la debe suponer. Cada supuesto debe estar perfectamente justificado de forma explícita en formato de comentarios dentro del código\n"
   ]
  },
  {
   "cell_type": "code",
   "execution_count": 15,
   "metadata": {},
   "outputs": [
    {
     "name": "stdout",
     "output_type": "stream",
     "text": [
      "El acierto de clasificación es del  90.0 %\n",
      "[0. 0. 0. 0. 0. 0. 0. 1. 0. 0. 0. 1. 0. 0. 1. 0. 0. 0. 0. 0. 0. 0. 0. 0.\n",
      " 0. 0. 0. 1. 0. 0. 0. 1. 0. 0. 0. 0. 0. 0. 0. 0. 0. 0. 1. 0. 0. 0. 0. 1.\n",
      " 0. 0. 0. 0. 0. 0. 0. 0. 0. 0. 0. 1. 1. 0. 0. 0. 0. 0. 0. 0. 0. 0. 0. 0.\n",
      " 0. 0. 0. 0. 1. 0. 0. 0. 0. 0. 0. 0. 0. 0. 0. 1. 0. 0. 0. 0. 0. 0. 0. 0.\n",
      " 0. 0. 0. 0.]\n"
     ]
    }
   ],
   "source": [
    "#espacio para resolver la actividad\n",
    "\n",
    "\n",
    "import matplotlib.pyplot as plt \n",
    "from sklearn.metrics import classification_report  #esta librería nos ayudará a tener a la salida diferentes métricas, no solo el acierto de clasificación\n",
    "from sklearn.model_selection import train_test_split\n",
    "from sklearn.tree import DecisionTreeClassifier #librería para el árbol de decisión\n",
    "from sklearn.ensemble import ExtraTreesClassifier\n",
    "from sklearn.ensemble import RandomForestClassifier\n",
    "from sklearn import neighbors, datasets\n",
    "from sklearn.naive_bayes import GaussianNB \n",
    "import numpy as np\n",
    "import statistics\n",
    "\n",
    "\n",
    "input_cafe = 'Cafe.txt'\n",
    "datos_cafe = np.loadtxt(input_cafe,delimiter =',')\n",
    "cafe = datos_cafe[:,:]\n",
    "\n",
    "input_expertos = 'Expertos.txt'\n",
    "datos_expertos = np.loadtxt(input_expertos,delimiter =',')\n",
    "\n",
    "input_test = 'Test.txt'\n",
    "datos_test = np.loadtxt(input_test,delimiter =',')\n",
    "\n",
    "valoracion = np.zeros(datos_expertos.shape[0]).astype(np.int64)\n",
    "y = datos_expertos[:,0]\n",
    "uno = 0\n",
    "cero = 0\n",
    "for i in range(datos_expertos.shape[0]):\n",
    "    for j in range(datos_expertos.shape[1]):\n",
    "        if datos_expertos[i,j] == 0:\n",
    "            cero = cero + 1\n",
    "        if datos_expertos[i,j] == 1:\n",
    "            uno = uno + 1\n",
    "        if cero > uno:\n",
    "            valoracion[i] = 0\n",
    "        if uno > cero:\n",
    "            valoracion[i] = 1\n",
    "        if uno == cero:#este if es para ver cuando la mitad de opniones es buena y la otra mala, entonces escojo la opinion buena\n",
    "            valoracion[i] = 1\n",
    "    \n",
    "    uno = 0\n",
    "    cero = 0\n",
    "\n",
    "\n",
    "X_train, X_test, y_train, y_test = train_test_split(cafe,y, test_size = 0.3, random_state = 5)\n",
    "\n",
    "\n",
    "def remocion(X_train, X_test):\n",
    "    media = X_train.mean(axis = 0)\n",
    "    desviacion = X_train.std(axis = 0)\n",
    "    X_train_prepro = (X_train - media)/desviacion\n",
    "    X_test_prepro = (X_test - media)/desviacion\n",
    "    return X_train_prepro, X_test_prepro\n",
    "\n",
    "\n",
    "X_train_preproR, X_test_preproR = remocion(X_train, X_test)\n",
    "\n",
    "NN = 59 #definimos le número de vecinos (en lo posible elegir números impares)\n",
    "clasificadorkNN = neighbors.KNeighborsClassifier(NN, weights = 'distance') #instanciamos el clasificador\n",
    "\n",
    "#entreno el clasificador\n",
    "clasificadorkNN.fit(X_train,y_train)\n",
    "pred_kNN = clasificadorkNN.predict(X_test_preproR)\n",
    "\n",
    "acc = 100.0*(y_test == pred_kNN).sum()/X_test.shape[0] #calculamos el acierto de clasificación\n",
    "print('El acierto de clasificación es del ',acc , '%') #imprimimos el acierto de clasificacion\n",
    "print(y)"
   ]
  }
 ],
 "metadata": {
  "kernelspec": {
   "display_name": "Python 3",
   "language": "python",
   "name": "python3"
  },
  "language_info": {
   "codemirror_mode": {
    "name": "ipython",
    "version": 3
   },
   "file_extension": ".py",
   "mimetype": "text/x-python",
   "name": "python",
   "nbconvert_exporter": "python",
   "pygments_lexer": "ipython3",
   "version": "3.7.3"
  }
 },
 "nbformat": 4,
 "nbformat_minor": 2
}
