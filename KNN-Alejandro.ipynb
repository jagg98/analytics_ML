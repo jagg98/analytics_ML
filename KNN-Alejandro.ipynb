{
 "cells": [
  {
   "cell_type": "markdown",
   "metadata": {},
   "source": [
    "# Aprendizaje supervisado - *k* vecinos más cercanos\n",
    "\n",
    "El clasificdor basado en los *k* vecinos más cercanos, usa la información del conjunto de entrenamiento para calcular las distancias entre la observación de test o validación y las observaciones de entrenamiento. Usualmente se utiliza la distancia euclidea para encontrar los vecinos más cercanos a la muestra de validación.\n",
    "\n",
    "$$d(X_{i},X_{j})=\\sqrt{\\sum_{r=1}^{p}(x_{ri}-x_{rj})^{2}}$$\n",
    "\n",
    "Una vez se han encontrado los *k* vecinos, se procede a aplicar una regla mayoritaria para elegir la clase de la nueva muestra. \n"
   ]
  },
  {
   "cell_type": "code",
   "execution_count": 20,
   "metadata": {},
   "outputs": [
    {
     "name": "stdout",
     "output_type": "stream",
     "text": [
      "(18,)\n",
      "(18, 5)\n"
     ]
    }
   ],
   "source": [
    "#i will show a code which contains an example obout KNN with the above definition\n",
    "\n",
    "import numpy as np\n",
    "import math\n",
    "import statistics\n",
    "\n",
    "test = \"git1\"\n",
    "\n",
    "#here we put our date, the test and train\n",
    "#we can export our date or symple create our date right here\n",
    "#x_train date that tell me the calification of a person has to classify a gruop\n",
    "\n",
    "#create a matrix with my complete date\n",
    "\n",
    "x_train = np.array([[2.1,1.3,0.2,5.6,2.3],\n",
    "               [1.3,3.2,1.6,4.6,2.5],\n",
    "               [2.9,2.5,2.5,2.6,2.5],\n",
    "               [2.7,5.4,1.6,6.5,2.7],\n",
    "               [3.8,0.9,2.5,1.2,2.5],\n",
    "               [7.3,2.1,6.5,2.1,2.8],\n",
    "               [4.2,6.5,3.2,5,3.5],\n",
    "               [3.8,3.7,3,4.5,2.6],\n",
    "               [2.5,4.1,1.6,4.6,2.4],\n",
    "               [3.4,1.9,2.5,2.3,2.2],\n",
    "               [5.7,3.5,4.5,3.9,2.5],\n",
    "               [6.1,4.3,5.4,4.9,3.1],\n",
    "               [5.1,2.2,4.6,2.8,2.3],\n",
    "               [6.2,1.1,5.3,2,1.9],\n",
    "               [2.2,2.2,1.6,2.8,2.3],\n",
    "               [3.5,2.5,3.2,2.5,2.4],\n",
    "               [1.5,4.1,2.6,4.6,2.4],\n",
    "               [2.5,4.1,1.8,4.6,2.4]])\n",
    "\n",
    "y_train = np.array([2,1,1,2,1,2,3,2,2,1,3,2,3,1,2,2,2,2])\n",
    "x_test = np.array([5.1,3.3,2.1,5.4,2.9])\n",
    "y_test = np.array([3])\n",
    "print(y_train.shape)\n",
    "print(x_train.shape)"
   ]
  },
  {
   "cell_type": "code",
   "execution_count": 36,
   "metadata": {},
   "outputs": [
    {
     "name": "stdout",
     "output_type": "stream",
     "text": [
      "[2, 2]\n"
     ]
    }
   ],
   "source": [
    "NumberD = x_train.shape[0]\n",
    "k=2\n",
    "dicc = {} #this is a dictionary\n",
    "distance = []\n",
    "tags = []\n",
    "\n",
    "for i in range(NumberD):\n",
    "    distance.append(math.sqrt(((x_train[i,0]-x_test[0])**2)+((x_train[i,1]-x_test[1])**2)+((x_train[i,2]-x_test[2])**2)+((x_train[i,3]-x_test[3])**2)+((x_train[i,4]-x_test[4])**2)))\n",
    "    \n",
    "for x in range(NumberD):\n",
    "    dicc.update({distance[x]:y_train[x]})\n",
    "\n",
    "orderedDis = sorted(distance)\n",
    "\n",
    "for i in range(k):\n",
    "    p = orderedDis[i]\n",
    "    tags.append(dicc.get(p))\n",
    "\n",
    "print(tags)"
   ]
  },
  {
   "cell_type": "code",
   "execution_count": null,
   "metadata": {},
   "outputs": [],
   "source": []
  }
 ],
 "metadata": {
  "kernelspec": {
   "display_name": "Python 3",
   "language": "python",
   "name": "python3"
  },
  "language_info": {
   "codemirror_mode": {
    "name": "ipython",
    "version": 3
   },
   "file_extension": ".py",
   "mimetype": "text/x-python",
   "name": "python",
   "nbconvert_exporter": "python",
   "pygments_lexer": "ipython3",
   "version": "3.8.3"
  }
 },
 "nbformat": 4,
 "nbformat_minor": 4
}