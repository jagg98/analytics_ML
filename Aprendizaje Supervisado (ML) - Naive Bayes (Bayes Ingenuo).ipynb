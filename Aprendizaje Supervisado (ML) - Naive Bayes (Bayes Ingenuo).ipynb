{
 "cells": [
  {
   "cell_type": "markdown",
   "metadata": {},
   "source": [
    "## Naive Bayes (Bayes Ingenuo)\n",
    "\n",
    "Los clasificadores de Bayes ingenuos son clasificadores lineales conocidos por su simpleza y eficiencia. El modelo probabilístico de los clasificadores de Bayes ingenuos se basa en el Teorema de Bayes y el adjetivo *ingenuo* viene de la suposición  de que las características en la base de datos son mutuamente independientes.\n",
    "\n",
    "En la práctica, la suposición de independencia se viola frecuentemente, pero el clasificador de Bayes ingenuo tiende a tener un buen desempeño aún bajo esta suposición poco realista, especialmente para tamaños pequeños de muestra.\n",
    "\n",
    "Algunos campos en los que se usa el clasificador Bayesiano ingenuo son: diagnóstico de enfermedades, clasificación de secuencias de RNA y filtrado de spam en clientes de correo.\n",
    "\n",
    "Con el fin de entender mejor el trabajo de los clasificadores Bayesianos ingenuos se deben tener en cuenta los siguientes conceptos.\n",
    "\n",
    "1.***Probabilidad a posteriori***\n",
    "\n",
    "La probabilidad a posteriori está definida por el teorema de Bayes de la siguiente manera:\n",
    "\n",
    "$$ P_{a-posteriori} = \\frac{P_{condicional} \\times P_{a-priori}}{evicencia}$$\n",
    "\n",
    "La probabilidad a posteriori puede  definirse en el contexto de la clasificación como *¿Cuál es la probabilidad de un objeto particular de pertenecer a la clase $i$ dados sus valores de características observados?*\n",
    "\n",
    "*Ejemplo*\n",
    "\n",
    "¿Cuál es la probabilidad de que una persona tenga diabetes dado cierto valor de glucosa medida en la sangre pre y post?, i.e.:\n",
    "\n",
    "$$P(diabetes|\\mathbf{x}_i), \\quad \\mathbf{x}_i=[90mg/dl,145mg/dl],$$\n",
    "\n",
    "donde:\n",
    "\n",
    "* $\\mathbf{x}_i$ es el vector de características de la obsrvación $i$, con $i=1,2,\\ldots,n$\n",
    "* $\\omega_j$ la notación de clase $j$, con $j=1,2,\\ldots,m$\n",
    "* $P(\\mathbf{x}_i|\\omega_j)$ la probabliliad de observar la muestra $\\mathbf{x}_i$ dado que pertenece a la clase $\\omega_j$.\n",
    "\n",
    "La notación general de la probabilidad a posteriori se puede escribir como:\n",
    "\n",
    "$$P(\\omega_j|\\mathbf{x}_i)=\\frac{P(\\mathbf{x}_i|\\omega_j)P(\\omega_j)}{P(\\mathbf{x}_i)}$$\n",
    "\n",
    "La función objetivo en la probabilidad de Bayes ingenuo, es maximizar la probabilidad a posteriori dado el conjunto de entrenamiento, en orden de formular la regla de decisión.\n",
    "\n",
    "$$\\omega_{predict}\\leftarrow \\arg\\max_{j=1,\\ldots,m}P(\\omega_j|\\mathbf{x}_i)$$.\n",
    "\n",
    "Continuando con el ejemplo, se podría formular la regla de decisión basada en las probabilidades a posteriori como sigue:\n",
    "\n",
    ">*** La persona tiene diabetes si \n",
    "$$P(diabetes|\\mathbf{x}_i)\\geq P(no-diabetes|\\mathbf{x}_i)$$\n",
    "> si no, la persona es saludable ***\n",
    "\n",
    "2.***Probabilidad de clase condicional***\n",
    "\n",
    "Una suposición que los clasificadores Bayesianos hacen es que las muestras son *i.i.d*. La independencia significa que la probabilidad de una observiación no afecta la probabilidad de otra observación.\n",
    "\n",
    "Una suposición adicional de los clasificadores Bayesianos ingenuos, es la *independencia condicional* de las características. Bajo este supuesto, la probabilidad de clase condicional o verosimilitud de las puestras se puede esttimar directamente del conjunto de entrenamiento evaluando todas las posibilidades de $\\mathbf{x}$. La probabilidad de clase condicional puede calcularse como:\n",
    "\n",
    "$$P(\\mathbf{x}|\\omega_j)=P(x_1|\\omega_j)P(x_2|\\omega_2)\\ldots P(x_p|\\omega_j)=\\prod_{k=1}^{p}P(x_k|\\omega_j)$$\n",
    "\n",
    "Aquí $P(\\mathbf{x}|\\omega_j)$ significa *¿Qué tan probable es observar este patrón particular $\\mathbf{x}$ dado a que pertenece a la clase $\\omega_j$?*. Las verosimilitudes individuales para cada característica pueden estimarse vía estimación de máxima verosimilitud, lo que es una simple fecuencia en el caso de datos categóricos:\n",
    "\n",
    "$$\\hat{P}(x_i|\\omega_j)=\\frac{N_{x_i,\\omega_j}}{N_{\\omega_j}},$$\n",
    "\n",
    "donde $N_{x_i,\\omega_j}$ es el número de veces que la característica $x_i$ aparece en las observaciones de clase $\\omega_j$, y $N_{\\omega_j}$ es el conteo total de todas las característias en la clase $\\omega_j$\n",
    "\n",
    "3.*** Probabilidad a priori***\n",
    "\n",
    "Esta probabilidad se puede interpretar como el conocimiento a priori. En el contexto de la clasificación, la probabilidad a priori también es llamada *prior de clase*, que describe la *probabilidad general de encontrar una clase particular*. Si los priores siguen una distribución uniforme, las probabilidades posteriores estarán determinadas por completo de la probabilidad de clase condicional y de la evidencia.\n",
    "\n",
    "Eventualmente, el conocimiento a priori puede ser determinado  a través del conjunto de entrenamiento, si se asume que los datos de entrenamiento son *i.i.d* y que son una muestra representativa de toda la población. La estimación de máxima verosimilitud puede formularse como:\n",
    "\n",
    "$$\\hat{P}(\\omega_j)=\\frac{N_{\\omega_j}}{N_c},$$\n",
    "\n",
    "donde $N_{\\omega_j}$ es el número de muestras de la clase $\\omega_j$ y $N_c$ todas las muestras.\n",
    "\n",
    "4.***Evidencia***\n",
    "\n",
    "La evidencia $P(\\mathbf{x})$ puede entenderse como la probabilidad de encontrar un patrón particular $\\mathbf{x}$ independientemente de la etiqueta de clase. Usualmente se puede eliminar de la regla de decisión, debido a que suele ser común a todos los términos.\n",
    "\n",
    "Para la implementación de este clasificador tenemos:"
   ]
  },
  {
   "cell_type": "code",
   "execution_count": 1,
   "metadata": {},
   "outputs": [],
   "source": [
    "import numpy as np #importamos la librería numérica\n",
    "import matplotlib.pyplot as plt #importamos la librería para graficar\n",
    "from sklearn.naive_bayes import GaussianNB #importamos la librería que contiene el clasificador de Bayes\n",
    "#hola debo de hacer un cambio en este progama\n",
    "from sklearn.model_selection import train_test_split #importamos la librería para la división de la base de datos"
   ]
  },
  {
   "cell_type": "code",
   "execution_count": 14,
   "metadata": {},
   "outputs": [
    {
     "name": "stdout",
     "output_type": "stream",
     "text": [
      "[[ 2.18e+00  5.70e-01  2.18e+03  5.70e-03]\n",
      " [ 4.13e+00  5.12e+00  4.13e+03  5.12e-02]\n",
      " [ 9.87e+00  1.95e+00  9.87e+03  1.95e-02]\n",
      " ...\n",
      " [ 4.40e+00  6.75e+00  4.40e+03  6.75e-02]\n",
      " [ 8.71e+00  3.38e+00  8.71e+03  3.38e-02]\n",
      " [ 6.12e+00 -1.80e+00  6.12e+03 -1.80e-02]]\n",
      "[1. 2. 3. 0. 1. 2. 3. 0. 1. 2. 3. 0. 1. 2. 3. 0. 1. 2. 3. 0. 1. 2. 3. 0.\n",
      " 1. 2. 3. 0. 1.]\n"
     ]
    }
   ],
   "source": [
    "#importamos el archivo de datos que contiene la Base de Dats. El formato es de valores separados por coma.\n",
    "input_file = 'Data_NaiveBayes.txt'\n",
    "#Cargamos los datos. Es importante pasar como argumento el delimitador (coma en este caso)\n",
    "data = np.loadtxt(input_file, delimiter=',')\n",
    "X,y = data[:,:-1],data[:,-1] #la matriz de observaciones consta de todas las columnas exceptuando la última. El vector de etiquetas\n",
    "#corresponde a la última columna que está en el archivo\n",
    "print(X)\n",
    "print(y[1:30])"
   ]
  },
  {
   "cell_type": "markdown",
   "metadata": {},
   "source": [
    "**Ejercicio 1**\n",
    "\n",
    "Realiza las gráficas de la matriz de observaciones con todas las posibles combinaciones de las características (e.j. Característica 1 vs Característica 2, Característica 1 vs Característica 3, etc). Asegúrate de que cada una de las clases se vea de un color diferente para saber cuáles características serían mejores para clasificar (las que sean linealmente separables)\n"
   ]
  },
  {
   "cell_type": "code",
   "execution_count": null,
   "metadata": {
    "collapsed": true
   },
   "outputs": [],
   "source": [
    "# espacio para la solución del ejercicio 1\n",
    "import matplotlib.pyplot as plt"
   ]
  },
  {
   "cell_type": "markdown",
   "metadata": {},
   "source": [
    "** Ejercicio 2**\n",
    "\n",
    "Particiona la base de datos en entrenamiento y validación con 70% 30%. Preprocesa los datos con remoción de la media."
   ]
  },
  {
   "cell_type": "code",
   "execution_count": null,
   "metadata": {
    "collapsed": true
   },
   "outputs": [],
   "source": [
    "# espacio para la solución del ejercicio 2"
   ]
  },
  {
   "cell_type": "code",
   "execution_count": null,
   "metadata": {},
   "outputs": [],
   "source": [
    "clasificador = GaussianNB() #instanciamos el clasificador\n",
    "clasificador.fit(X_train_preprocesado,y_train) #entrenamos el clasificador con la matriz de entranamiento pre-procesada\n",
    "y_predict = clasificador.predict(X_test_preprocesado) #validamos el clasificador sobre el conjunto de entrenamiento\n",
    "acc = 100.0*(y_test == y_predict).sum()/X_test_preprocesado.shape[0] #calculamos el acierto de clasificación\n",
    "print('El acierto de clasificación es del ',acc , '%') #imprimimos el acierto de clasificacion"
   ]
  },
  {
   "cell_type": "markdown",
   "metadata": {},
   "source": [
    "** Ejercicio 3 **\n",
    "\n",
    "Ahora, utiliza como matriz de observaciones $\\mathbf{X}$ el conjunto de todas las observaciones pero **únicamente** con las dos combinaciones de características que consideras mejor separan las clases de acuerdo a las gráficas del **Ejercicio 2**. Preprocesa, particiona y clasifica con esa nueva matriz de observaciones. ¿Funciona mejor o peor el clasificador?"
   ]
  },
  {
   "cell_type": "code",
   "execution_count": null,
   "metadata": {
    "collapsed": true
   },
   "outputs": [],
   "source": [
    "#espacio para solución del ejercicio 3"
   ]
  }
 ],
 "metadata": {
  "kernelspec": {
   "display_name": "Python 3",
   "language": "python",
   "name": "python3"
  },
  "language_info": {
   "codemirror_mode": {
    "name": "ipython",
    "version": 3
   },
   "file_extension": ".py",
   "mimetype": "text/x-python",
   "name": "python",
   "nbconvert_exporter": "python",
   "pygments_lexer": "ipython3",
   "version": "3.7.0"
  }
 },
 "nbformat": 4,
 "nbformat_minor": 2
}